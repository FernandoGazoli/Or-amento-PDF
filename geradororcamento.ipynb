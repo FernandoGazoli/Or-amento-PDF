{
 "cells": [
  {
   "cell_type": "markdown",
   "id": "899301d5",
   "metadata": {},
   "source": [
    "# Gerando informações do usuário"
   ]
  },
  {
   "cell_type": "code",
   "execution_count": 1,
   "id": "be03e23d",
   "metadata": {},
   "outputs": [
    {
     "name": "stdout",
     "output_type": "stream",
     "text": [
      "Digite a descrição do processo: Pensão Alimentícea\n",
      "Valor por hora dos honorários Advocatícios: 150\n",
      "Digite o prazo estimado em horas para entrega do processo: 72\n",
      "Digite prazo estimado da conclusão do processo: 1 mês\n"
     ]
    }
   ],
   "source": [
    "processo = input(\"Digite a descrição do processo: \")\n",
    "valor_hora_honorarios = input(\"Valor por hora dos honorários Advocatícios: \") \n",
    "prazo_horas = input(\"Digite o prazo estimado em horas para entrega do processo: \")\n",
    "prazo_conclusao = input(\"Digite prazo estimado da conclusão do processo: \")\n"
   ]
  },
  {
   "cell_type": "markdown",
   "id": "697171ec",
   "metadata": {},
   "source": [
    "# Cálculo\n"
   ]
  },
  {
   "cell_type": "code",
   "execution_count": 2,
   "id": "bcac0e3c",
   "metadata": {},
   "outputs": [
    {
     "name": "stdout",
     "output_type": "stream",
     "text": [
      "10800\n"
     ]
    }
   ],
   "source": [
    "valor_total = int(valor_hora_honorarios) * int(prazo_horas)\n",
    "print(valor_total)"
   ]
  },
  {
   "cell_type": "markdown",
   "id": "65c9c8b8",
   "metadata": {},
   "source": [
    "# Gerando PDF\n"
   ]
  },
  {
   "cell_type": "code",
   "execution_count": 3,
   "id": "8f66fa3b",
   "metadata": {},
   "outputs": [
    {
     "name": "stdout",
     "output_type": "stream",
     "text": [
      "Requirement already satisfied: fpdf in c:\\users\\ferna\\anaconda3\\lib\\site-packages (1.7.2)\n"
     ]
    }
   ],
   "source": [
    "!pip install fpdf"
   ]
  },
  {
   "cell_type": "code",
   "execution_count": 4,
   "id": "8e3311e3",
   "metadata": {},
   "outputs": [],
   "source": [
    "from fpdf import FPDF"
   ]
  },
  {
   "cell_type": "code",
   "execution_count": 5,
   "id": "0729992f",
   "metadata": {},
   "outputs": [
    {
     "name": "stdout",
     "output_type": "stream",
     "text": [
      "Orçamento gerado com sucesso!\n"
     ]
    }
   ],
   "source": [
    "pdf = FPDF()\n",
    "\n",
    "\n",
    "pdf.add_page()\n",
    "pdf.set_font(\"Arial\")\n",
    "\n",
    "pdf.image(\"template.png\", x=0, y=0)\n",
    "pdf.text(115, 145, processo)\n",
    "pdf.text(115, 160, valor_hora_honorarios)\n",
    "pdf.text(115, 175, prazo_horas)\n",
    "pdf.text(115, 190, prazo_conclusao)\n",
    "pdf.text(115, 205, str(valor_total))\n",
    "\n",
    "pdf.output(\"Orçamento.pdf\")\n",
    "print(\"Orçamento gerado com sucesso!\")"
   ]
  },
  {
   "cell_type": "code",
   "execution_count": null,
   "id": "3d407c60",
   "metadata": {},
   "outputs": [],
   "source": []
  },
  {
   "cell_type": "code",
   "execution_count": null,
   "id": "93b1a854",
   "metadata": {},
   "outputs": [],
   "source": []
  },
  {
   "cell_type": "code",
   "execution_count": null,
   "id": "32161242",
   "metadata": {},
   "outputs": [],
   "source": []
  },
  {
   "cell_type": "code",
   "execution_count": null,
   "id": "f4b71247",
   "metadata": {},
   "outputs": [],
   "source": []
  }
 ],
 "metadata": {
  "kernelspec": {
   "display_name": "Python 3 (ipykernel)",
   "language": "python",
   "name": "python3"
  },
  "language_info": {
   "codemirror_mode": {
    "name": "ipython",
    "version": 3
   },
   "file_extension": ".py",
   "mimetype": "text/x-python",
   "name": "python",
   "nbconvert_exporter": "python",
   "pygments_lexer": "ipython3",
   "version": "3.9.13"
  }
 },
 "nbformat": 4,
 "nbformat_minor": 5
}
